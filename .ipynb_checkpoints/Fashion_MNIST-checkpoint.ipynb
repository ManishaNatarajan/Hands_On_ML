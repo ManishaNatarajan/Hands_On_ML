{
 "cells": [
  {
   "cell_type": "markdown",
   "metadata": {},
   "source": [
    "# Classification of Fashion MNIST Dataset"
   ]
  },
  {
   "cell_type": "code",
   "execution_count": 1,
   "metadata": {},
   "outputs": [],
   "source": [
    "# import reqired libraries\n",
    "import os\n",
    "import sys\n",
    "import numpy as np\n",
    "import struct"
   ]
  },
  {
   "cell_type": "code",
   "execution_count": 2,
   "metadata": {},
   "outputs": [],
   "source": [
    "# Fetch data\n",
    "LOCAL_PATH = \"datasets/fashion\""
   ]
  },
  {
   "cell_type": "code",
   "execution_count": 11,
   "metadata": {},
   "outputs": [],
   "source": [
    "def load_data(path=LOCAL_PATH):\n",
    "    train_img = os.path.join(path, 'train-images-idx3-ubyte')\n",
    "    train_lbl = os.path.join(path, 'train-labels-idx1-ubyte')\n",
    "    test_img = os.path.join(path, 't10k-images-idx3-ubyte')\n",
    "    test_lbl = os.path.join(path, 't10k-labels-idx1-ubyte')\n",
    "    \n",
    "    # Load as numpy arrays\n",
    "    with open(train_lbl, 'rb') as flbl:\n",
    "        magic, num = struct.unpack(\">II\", flbl.read(8))\n",
    "        y_train = np.fromfile(flbl, dtype=np.int8)\n",
    "        \n",
    "    with open(test_lbl, 'rb') as flbl:\n",
    "        magic, num = struct.unpack(\">II\", flbl.read(8))\n",
    "        y_test = np.fromfile(flbl, dtype=np.int8)\n",
    "        \n",
    "    with open(train_img, 'rb') as fimg:\n",
    "        magic, num, rows, cols = struct.unpack(\">IIII\", fimg.read(16))\n",
    "        X_train = np.fromfile(fimg, dtype=np.int8).reshape(len(y_train), rows, cols)\n",
    "        \n",
    "    with open(test_img, 'rb') as fimg:\n",
    "        magic, num, rows, cols = struct.unpack(\">IIII\", fimg.read(16))\n",
    "        X_test = np.fromfile(fimg, dtype=np.int8).reshape(len(y_test), rows, cols)\n",
    "        \n",
    "    return X_train, y_train, X_test, y_test"
   ]
  },
  {
   "cell_type": "code",
   "execution_count": 12,
   "metadata": {},
   "outputs": [],
   "source": [
    "X_train, y_train, X_test, y_test = load_data()"
   ]
  },
  {
   "cell_type": "code",
   "execution_count": 15,
   "metadata": {},
   "outputs": [
    {
     "name": "stdout",
     "output_type": "stream",
     "text": [
      "Train data...\n",
      "num_samples:  60000\n",
      "Image size:  (28, 28)\n",
      "Teast data...\n",
      "num_samples:  10000\n",
      "Image size:  (28, 28)\n"
     ]
    }
   ],
   "source": [
    "print(\"Train data...\")\n",
    "print(\"num_samples: \",X_train.shape[0])\n",
    "print(\"Image size: \", (X_train.shape[1], X_train.shape[2]))\n",
    "print(\"Teast data...\")\n",
    "print(\"num_samples: \",X_test.shape[0])\n",
    "print(\"Image size: \", (X_test.shape[1], X_test.shape[2]))"
   ]
  },
  {
   "cell_type": "code",
   "execution_count": 19,
   "metadata": {},
   "outputs": [],
   "source": [
    "labels = [\"T-shirt/top\", \"Trouser\", \"Pullover\", \"Dress\", \"Coat\", \"Sandal\", \"Shirt\", \"Sneaker\",\n",
    "         \"Bag\", \"Ankle Boot\"]"
   ]
  },
  {
   "cell_type": "code",
   "execution_count": 20,
   "metadata": {},
   "outputs": [
    {
     "data": {
      "image/png": "[encoded data removed]",
      "text/plain": [
       "<Figure size 432x288 with 1 Axes>"
      ]
     },
     "metadata": {
      "needs_background": "light"
     },
     "output_type": "display_data"
    },
    {
     "name": "stdout",
     "output_type": "stream",
     "text": [
      "label:  Bag\n"
     ]
    }
   ],
   "source": [
    "# Lets visualize..\n",
    "%matplotlib inline\n",
    "import matplotlib\n",
    "import matplotlib.pyplot as plt\n",
    "\n",
    "some_sample_img = X_train[100]\n",
    "plt.imshow(some_sample_img, cmap=matplotlib.cm.binary, interpolation=\"nearest\")\n",
    "plt.axis(\"off\")\n",
    "plt.show()\n",
    "print(\"label: \", labels[y_train[100]])"
   ]
  },
  {
   "cell_type": "code",
   "execution_count": 22,
   "metadata": {},
   "outputs": [
    {
     "name": "stdout",
     "output_type": "stream",
     "text": [
      "Train_img: (60000, 784)\n",
      "Train_lbl: (60000,)\n",
      "Test_img: (60000,)\n",
      "Test_lbl: (10000,)\n"
     ]
    }
   ],
   "source": [
    "# Let's reshape the image as one long vector\n",
    "X_train = X_train.reshape(-1, 784)\n",
    "X_test = X_train.reshape(-1, 784)\n",
    "print(\"Train_img:\", X_train.shape)\n",
    "print(\"Train_lbl:\", y_train.shape)\n",
    "print(\"Test_img:\", y_train.shape)\n",
    "print(\"Test_lbl:\", y_test.shape)"
   ]
  },
  {
   "cell_type": "code",
   "execution_count": 23,
   "metadata": {},
   "outputs": [],
   "source": [
    "# Shuffle the training data\n",
    "np.random.seed(42) \n",
    "shuffle_idx = np.random.permutation(X_train.shape[0])\n",
    "X_train, y_train = X_train[shuffle_idx], y_train[shuffle_idx]"
   ]
  },
  {
   "cell_type": "markdown",
   "metadata": {},
   "source": [
    "## Binary Classifier\n",
    "Let's build a binary classifier to identify bags"
   ]
  },
  {
   "cell_type": "code",
   "execution_count": 58,
   "metadata": {},
   "outputs": [
    {
     "data": {
      "text/plain": [
       "SGDClassifier(alpha=0.0001, average=False, class_weight=None,\n",
       "       early_stopping=False, epsilon=0.1, eta0=0.0, fit_intercept=True,\n",
       "       l1_ratio=0.15, learning_rate='optimal', loss='hinge', max_iter=None,\n",
       "       n_iter=None, n_iter_no_change=5, n_jobs=None, penalty='l2',\n",
       "       power_t=0.5, random_state=42, shuffle=True, tol=0.001,\n",
       "       validation_fraction=0.1, verbose=0, warm_start=False)"
      ]
     },
     "execution_count": 58,
     "metadata": {},
     "output_type": "execute_result"
    }
   ],
   "source": [
    "y_train_bag = (y_train==8) #has to be in this form. y_train[y_train==8] does not work!!\n",
    "y_test_bag = (y_test==8)\n",
    "\n",
    "# Using Stochastic Gradient Descent Classifier:\n",
    "from sklearn.linear_model import SGDClassifier\n",
    "sgd_clf = SGDClassifier(random_state=42, tol=1e-3)\n",
    "sgd_clf.fit(X_train, y_train_bag)"
   ]
  },
  {
   "cell_type": "code",
   "execution_count": 59,
   "metadata": {},
   "outputs": [
    {
     "data": {
      "text/plain": [
       "array([ True])"
      ]
     },
     "execution_count": 59,
     "metadata": {},
     "output_type": "execute_result"
    }
   ],
   "source": [
    "some_sample_image = X_train[4]\n",
    "sgd_clf.predict(X_train[4:5])"
   ]
  },
  {
   "cell_type": "code",
   "execution_count": 60,
   "metadata": {},
   "outputs": [
    {
     "data": {
      "image/png": "[encoded data removed]",
      "text/plain": [
       "<Figure size 432x288 with 1 Axes>"
      ]
     },
     "metadata": {
      "needs_background": "light"
     },
     "output_type": "display_data"
    }
   ],
   "source": [
    "# plot to check\n",
    "some_sample_image = some_sample_image.reshape(28,28)\n",
    "plt.imshow(some_sample_image, cmap=matplotlib.cm.binary, interpolation=\"nearest\")\n",
    "plt.axis(\"off\")\n",
    "plt.show()"
   ]
  },
  {
   "cell_type": "markdown",
   "metadata": {},
   "source": [
    "### Let's use Cross validation to check how well this classifier performs.\n",
    "Before that, let's try to use stratified samplig to ensure that the bag class is evenly distributed amog the k-folds"
   ]
  },
  {
   "cell_type": "code",
   "execution_count": 61,
   "metadata": {},
   "outputs": [
    {
     "name": "stdout",
     "output_type": "stream",
     "text": [
      "0.51825\n",
      "0.5274\n",
      "0.5207\n"
     ]
    }
   ],
   "source": [
    "from sklearn.model_selection import StratifiedKFold\n",
    "from sklearn.base import clone\n",
    "\n",
    "skfolds = StratifiedKFold(n_splits=3, random_state=42)\n",
    "\n",
    "for train_index, test_index in skfolds.split(X_train, y_train_bag):\n",
    "    clone_clf = clone(sgd_clf) #Clone the classifier across diff folds\n",
    "    X_train_folds = X_train[train_index]\n",
    "    y_train_folds = y_train[train_index]\n",
    "    X_test_fold = X_train[test_index]\n",
    "    y_test_fold = y_train[test_index]\n",
    "    \n",
    "    clone_clf.fit(X_train_folds, y_train_folds)\n",
    "    y_pred = clone_clf.predict(X_test_fold)\n",
    "    n_correct = sum(y_pred == y_test_fold)\n",
    "    print(n_correct/len(y_pred))\n",
    "    "
   ]
  },
  {
   "cell_type": "code",
   "execution_count": null,
   "metadata": {},
   "outputs": [],
   "source": []
  }
 ],
 "metadata": {
  "kernelspec": {
   "display_name": "Python 3",
   "language": "python",
   "name": "python3"
  },
  "language_info": {
   "codemirror_mode": {
    "name": "ipython",
    "version": 3
   },
   "file_extension": ".py",
   "mimetype": "text/x-python",
   "name": "python",
   "nbconvert_exporter": "python",
   "pygments_lexer": "ipython3",
   "version": "3.7.3"
  }
 },
 "nbformat": 4,
 "nbformat_minor": 2
}
